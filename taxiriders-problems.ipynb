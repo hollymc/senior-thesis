{
 "cells": [
  {
   "cell_type": "code",
   "execution_count": 1,
   "metadata": {},
   "outputs": [],
   "source": [
    "import pandas as pd\n",
    "import numpy as np\n",
    "import datetime\n",
    "from importlib import reload\n",
    "from tqdm import tqdm\n",
    "import scipy.sparse as spa\n",
    "import matplotlib.pyplot as plt\n",
    "import cvxpy as cp\n",
    "import torch\n",
    "import tensorflow as tf\n",
    "from torch.utils.data import TensorDataset, DataLoader\n",
    "from cvxpylayers.torch import CvxpyLayer"
   ]
  },
  {
   "cell_type": "code",
   "execution_count": 2,
   "metadata": {
    "scrolled": true
   },
   "outputs": [],
   "source": [
    "# full_data = pd.read_csv(\"yellow_tripdata_2010-01.csv\")\n",
    "# full_data['pickup_datetime'] = pd.to_datetime(full_data['pickup_datetime'])\n",
    "# full_data['dropoff_datetime'] = pd.to_datetime(full_data['dropoff_datetime'])"
   ]
  },
  {
   "cell_type": "code",
   "execution_count": 3,
   "metadata": {},
   "outputs": [],
   "source": [
    "year = 2010\n",
    "month = 1\n",
    "day = 21\n",
    "date = datetime.date(year, month, day)"
   ]
  },
  {
   "cell_type": "code",
   "execution_count": 4,
   "metadata": {},
   "outputs": [],
   "source": [
    "# day_data = full_data.loc[(full_data['pickup_datetime'].dt.date == date) & (full_data['dropoff_datetime'].dt.date == date)]\n",
    "# day_data = day_data[['pickup_datetime', 'dropoff_datetime', 'trip_distance', 'pickup_longitude', 'pickup_latitude', 'dropoff_longitude', 'dropoff_latitude', 'fare_amount', 'surcharge', 'mta_tax', 'tip_amount', 'tolls_amount', 'total_amount']]\n",
    "# day_data = day_data.loc[(day_data['pickup_longitude'] != 0) & (day_data['pickup_latitude'] != 0)]\n",
    "# day_data.to_csv(r'yellow_tripdata_2010-01-21.csv', index=False)"
   ]
  },
  {
   "cell_type": "code",
   "execution_count": 5,
   "metadata": {},
   "outputs": [],
   "source": [
    "day_data = pd.read_csv(\"yellow_tripdata_2010-01-21.csv\")\n",
    "day_data['pickup_datetime'] = pd.to_datetime(day_data['pickup_datetime'])\n",
    "day_data['dropoff_datetime'] = pd.to_datetime(day_data['dropoff_datetime'])"
   ]
  },
  {
   "cell_type": "code",
   "execution_count": 6,
   "metadata": {},
   "outputs": [],
   "source": [
    "n = 200\n",
    "data = day_data.sample(n).sort_values(by='pickup_datetime')\n",
    "data.index = range(n)"
   ]
  },
  {
   "cell_type": "markdown",
   "metadata": {},
   "source": [
    "## Vector Formulation"
   ]
  },
  {
   "cell_type": "code",
   "execution_count": null,
   "metadata": {},
   "outputs": [
    {
     "name": "stdout",
     "output_type": "stream",
     "text": [
      "Time Window: 5\n",
      "Run Time: None\n",
      "Objective Value: 950.0296911740364\n"
     ]
    }
   ],
   "source": [
    "import class_TP\n",
    "reload(class_TP)\n",
    "from class_TP import TP\n",
    "\n",
    "time_windows = [5, 10, 20]\n",
    "obj_val = []\n",
    "runtimes = []\n",
    "\n",
    "tp = TP(data)\n",
    "for time_window in time_windows:\n",
    "    x, problem = tp.problem_window(time_window)\n",
    "    \n",
    "#     sims = 10\n",
    "#     run_time = 0\n",
    "#     for i in range(sims):\n",
    "#         problem.solve()\n",
    "#         run_time += problem.solver_stats.solve_time\n",
    "#     run_times.append(run_time/sims)\n",
    "\n",
    "    problem.solve(TimeLimit = 300)\n",
    "    obj_val.append(-problem.objective.value)\n",
    "    runtimes.append(problem.solver_stats.solve_time)\n",
    "    \n",
    "    print(\"Time Window:\", time_window)\n",
    "    print(\"Run Time:\", problem.solver_stats.solve_time)\n",
    "    print(\"Objective Value:\", -problem.objective.value)\n",
    "#     x_val = spa.dok_matrix((tp.num_nodes, tp.num_nodes))\n",
    "#     for a in range(tp.num_arcs):\n",
    "#         x_val[tp.arcs[a]] = np.around(x[a].value, decimals=2)\n",
    "#     print(x_val.tocoo())\n",
    "\n",
    "plt.figure(1)\n",
    "plt.plot(time_windows, runtimes);\n",
    "plt.title(\"Run Time\");\n",
    "plt.xlabel(\"Time Window\");\n",
    "plt.ylabel(\"Run Time\");\n",
    "plt.figure(2)\n",
    "plt.plot(time_windows, obj_val);\n",
    "plt.title(\"Profit\");\n",
    "plt.xlabel(\"Time Window\");\n",
    "plt.ylabel(\"Profit\");"
   ]
  },
  {
   "cell_type": "code",
   "execution_count": 7,
   "metadata": {
    "scrolled": true
   },
   "outputs": [
    {
     "name": "stdout",
     "output_type": "stream",
     "text": [
      "===============================================================================\n",
      "                                     CVXPY                                     \n",
      "                                    v1.1.11                                    \n",
      "===============================================================================\n",
      "(CVXPY) Mar 26 10:40:27 AM: Your problem has 20750 variables, 8 constraints, and 0 parameters.\n"
     ]
    },
    {
     "ename": "ValueError",
     "evalue": "The truth value of an array with more than one element is ambiguous. Use a.any() or a.all().",
     "output_type": "error",
     "traceback": [
      "\u001b[1;31m---------------------------------------------------------------------------\u001b[0m",
      "\u001b[1;31mValueError\u001b[0m                                Traceback (most recent call last)",
      "\u001b[1;32m<ipython-input-7-b31804296dbb>\u001b[0m in \u001b[0;36m<module>\u001b[1;34m\u001b[0m\n\u001b[0;32m     18\u001b[0m \u001b[1;31m#     run_times.append(run_time/sims)\u001b[0m\u001b[1;33m\u001b[0m\u001b[1;33m\u001b[0m\u001b[1;33m\u001b[0m\u001b[0m\n\u001b[0;32m     19\u001b[0m \u001b[1;33m\u001b[0m\u001b[0m\n\u001b[1;32m---> 20\u001b[1;33m     \u001b[0mproblem\u001b[0m\u001b[1;33m.\u001b[0m\u001b[0msolve\u001b[0m\u001b[1;33m(\u001b[0m\u001b[0mverbose\u001b[0m\u001b[1;33m=\u001b[0m\u001b[1;32mTrue\u001b[0m\u001b[1;33m)\u001b[0m\u001b[1;33m\u001b[0m\u001b[1;33m\u001b[0m\u001b[0m\n\u001b[0m\u001b[0;32m     21\u001b[0m     \u001b[0mobj_val\u001b[0m\u001b[1;33m.\u001b[0m\u001b[0mappend\u001b[0m\u001b[1;33m(\u001b[0m\u001b[1;33m-\u001b[0m\u001b[0mproblem\u001b[0m\u001b[1;33m.\u001b[0m\u001b[0mobjective\u001b[0m\u001b[1;33m.\u001b[0m\u001b[0mvalue\u001b[0m\u001b[1;33m)\u001b[0m\u001b[1;33m\u001b[0m\u001b[1;33m\u001b[0m\u001b[0m\n\u001b[0;32m     22\u001b[0m     \u001b[0mruntimes\u001b[0m\u001b[1;33m.\u001b[0m\u001b[0mappend\u001b[0m\u001b[1;33m(\u001b[0m\u001b[0mproblem\u001b[0m\u001b[1;33m.\u001b[0m\u001b[0msolver_stats\u001b[0m\u001b[1;33m.\u001b[0m\u001b[0msolve_time\u001b[0m\u001b[1;33m)\u001b[0m\u001b[1;33m\u001b[0m\u001b[1;33m\u001b[0m\u001b[0m\n",
      "\u001b[1;32m~\\anaconda3\\lib\\site-packages\\cvxpy\\problems\\problem.py\u001b[0m in \u001b[0;36msolve\u001b[1;34m(self, *args, **kwargs)\u001b[0m\n\u001b[0;32m    455\u001b[0m         \u001b[1;32melse\u001b[0m\u001b[1;33m:\u001b[0m\u001b[1;33m\u001b[0m\u001b[1;33m\u001b[0m\u001b[0m\n\u001b[0;32m    456\u001b[0m             \u001b[0msolve_func\u001b[0m \u001b[1;33m=\u001b[0m \u001b[0mProblem\u001b[0m\u001b[1;33m.\u001b[0m\u001b[0m_solve\u001b[0m\u001b[1;33m\u001b[0m\u001b[1;33m\u001b[0m\u001b[0m\n\u001b[1;32m--> 457\u001b[1;33m         \u001b[1;32mreturn\u001b[0m \u001b[0msolve_func\u001b[0m\u001b[1;33m(\u001b[0m\u001b[0mself\u001b[0m\u001b[1;33m,\u001b[0m \u001b[1;33m*\u001b[0m\u001b[0margs\u001b[0m\u001b[1;33m,\u001b[0m \u001b[1;33m**\u001b[0m\u001b[0mkwargs\u001b[0m\u001b[1;33m)\u001b[0m\u001b[1;33m\u001b[0m\u001b[1;33m\u001b[0m\u001b[0m\n\u001b[0m\u001b[0;32m    458\u001b[0m \u001b[1;33m\u001b[0m\u001b[0m\n\u001b[0;32m    459\u001b[0m     \u001b[1;33m@\u001b[0m\u001b[0mclassmethod\u001b[0m\u001b[1;33m\u001b[0m\u001b[1;33m\u001b[0m\u001b[0m\n",
      "\u001b[1;32m~\\anaconda3\\lib\\site-packages\\cvxpy\\problems\\problem.py\u001b[0m in \u001b[0;36m_solve\u001b[1;34m(self, solver, warm_start, verbose, gp, qcp, requires_grad, enforce_dpp, **kwargs)\u001b[0m\n\u001b[0;32m    883\u001b[0m             \u001b[1;32mif\u001b[0m \u001b[0mself\u001b[0m\u001b[1;33m.\u001b[0m\u001b[0mis_dcp\u001b[0m\u001b[1;33m(\u001b[0m\u001b[1;33m)\u001b[0m\u001b[1;33m:\u001b[0m\u001b[1;33m\u001b[0m\u001b[1;33m\u001b[0m\u001b[0m\n\u001b[0;32m    884\u001b[0m                 \u001b[0mcurvatures\u001b[0m\u001b[1;33m.\u001b[0m\u001b[0mappend\u001b[0m\u001b[1;33m(\u001b[0m\u001b[1;34m'DCP'\u001b[0m\u001b[1;33m)\u001b[0m\u001b[1;33m\u001b[0m\u001b[1;33m\u001b[0m\u001b[0m\n\u001b[1;32m--> 885\u001b[1;33m             \u001b[1;32mif\u001b[0m \u001b[0mself\u001b[0m\u001b[1;33m.\u001b[0m\u001b[0mis_dgp\u001b[0m\u001b[1;33m(\u001b[0m\u001b[1;33m)\u001b[0m\u001b[1;33m:\u001b[0m\u001b[1;33m\u001b[0m\u001b[1;33m\u001b[0m\u001b[0m\n\u001b[0m\u001b[0;32m    886\u001b[0m                 \u001b[0mcurvatures\u001b[0m\u001b[1;33m.\u001b[0m\u001b[0mappend\u001b[0m\u001b[1;33m(\u001b[0m\u001b[1;34m'DGP'\u001b[0m\u001b[1;33m)\u001b[0m\u001b[1;33m\u001b[0m\u001b[1;33m\u001b[0m\u001b[0m\n\u001b[0;32m    887\u001b[0m             \u001b[1;32mif\u001b[0m \u001b[0mself\u001b[0m\u001b[1;33m.\u001b[0m\u001b[0mis_dqcp\u001b[0m\u001b[1;33m(\u001b[0m\u001b[1;33m)\u001b[0m\u001b[1;33m:\u001b[0m\u001b[1;33m\u001b[0m\u001b[1;33m\u001b[0m\u001b[0m\n",
      "\u001b[1;32m~\\anaconda3\\lib\\site-packages\\cvxpy\\utilities\\performance_utils.py\u001b[0m in \u001b[0;36m_compute_once\u001b[1;34m(self, *args, **kwargs)\u001b[0m\n\u001b[0;32m     68\u001b[0m             \u001b[1;32mreturn\u001b[0m \u001b[0mcache\u001b[0m\u001b[1;33m[\u001b[0m\u001b[0mkey\u001b[0m\u001b[1;33m]\u001b[0m\u001b[1;33m\u001b[0m\u001b[1;33m\u001b[0m\u001b[0m\n\u001b[0;32m     69\u001b[0m         \u001b[1;32melse\u001b[0m\u001b[1;33m:\u001b[0m\u001b[1;33m\u001b[0m\u001b[1;33m\u001b[0m\u001b[0m\n\u001b[1;32m---> 70\u001b[1;33m             \u001b[0mresult\u001b[0m \u001b[1;33m=\u001b[0m \u001b[0mfunc\u001b[0m\u001b[1;33m(\u001b[0m\u001b[0mself\u001b[0m\u001b[1;33m,\u001b[0m \u001b[1;33m*\u001b[0m\u001b[0margs\u001b[0m\u001b[1;33m,\u001b[0m \u001b[1;33m**\u001b[0m\u001b[0mkwargs\u001b[0m\u001b[1;33m)\u001b[0m\u001b[1;33m\u001b[0m\u001b[1;33m\u001b[0m\u001b[0m\n\u001b[0m\u001b[0;32m     71\u001b[0m             \u001b[0mcache\u001b[0m\u001b[1;33m[\u001b[0m\u001b[0mkey\u001b[0m\u001b[1;33m]\u001b[0m \u001b[1;33m=\u001b[0m \u001b[0mresult\u001b[0m\u001b[1;33m\u001b[0m\u001b[1;33m\u001b[0m\u001b[0m\n\u001b[0;32m     72\u001b[0m             \u001b[1;32mreturn\u001b[0m \u001b[0mresult\u001b[0m\u001b[1;33m\u001b[0m\u001b[1;33m\u001b[0m\u001b[0m\n",
      "\u001b[1;32m~\\anaconda3\\lib\\site-packages\\cvxpy\\problems\\problem.py\u001b[0m in \u001b[0;36mis_dgp\u001b[1;34m(self, dpp)\u001b[0m\n\u001b[0;32m    246\u001b[0m             \u001b[1;32mTrue\u001b[0m \u001b[1;32mif\u001b[0m \u001b[0mthe\u001b[0m \u001b[0mExpression\u001b[0m \u001b[1;32mis\u001b[0m \u001b[0mDGP\u001b[0m\u001b[1;33m,\u001b[0m \u001b[1;32mFalse\u001b[0m \u001b[0motherwise\u001b[0m\u001b[1;33m.\u001b[0m\u001b[1;33m\u001b[0m\u001b[1;33m\u001b[0m\u001b[0m\n\u001b[0;32m    247\u001b[0m         \"\"\"\n\u001b[1;32m--> 248\u001b[1;33m         return all(\n\u001b[0m\u001b[0;32m    249\u001b[0m           expr.is_dgp(dpp) for expr in self.constraints + [self.objective])\n\u001b[0;32m    250\u001b[0m \u001b[1;33m\u001b[0m\u001b[0m\n",
      "\u001b[1;32m~\\anaconda3\\lib\\site-packages\\cvxpy\\problems\\problem.py\u001b[0m in \u001b[0;36m<genexpr>\u001b[1;34m(.0)\u001b[0m\n\u001b[0;32m    247\u001b[0m         \"\"\"\n\u001b[0;32m    248\u001b[0m         return all(\n\u001b[1;32m--> 249\u001b[1;33m           expr.is_dgp(dpp) for expr in self.constraints + [self.objective])\n\u001b[0m\u001b[0;32m    250\u001b[0m \u001b[1;33m\u001b[0m\u001b[0m\n\u001b[0;32m    251\u001b[0m     \u001b[1;33m@\u001b[0m\u001b[0mperf\u001b[0m\u001b[1;33m.\u001b[0m\u001b[0mcompute_once\u001b[0m\u001b[1;33m\u001b[0m\u001b[1;33m\u001b[0m\u001b[0m\n",
      "\u001b[1;32m~\\anaconda3\\lib\\site-packages\\cvxpy\\constraints\\nonpos.py\u001b[0m in \u001b[0;36mis_dgp\u001b[1;34m(self, dpp)\u001b[0m\n\u001b[0;32m    189\u001b[0m                 return (self.args[0].is_log_log_convex() and\n\u001b[0;32m    190\u001b[0m                         self.args[1].is_log_log_concave())\n\u001b[1;32m--> 191\u001b[1;33m         return (self.args[0].is_log_log_convex() and\n\u001b[0m\u001b[0;32m    192\u001b[0m                 self.args[1].is_log_log_concave())\n\u001b[0;32m    193\u001b[0m \u001b[1;33m\u001b[0m\u001b[0m\n",
      "\u001b[1;32m~\\anaconda3\\lib\\site-packages\\cvxpy\\utilities\\performance_utils.py\u001b[0m in \u001b[0;36m_compute_once\u001b[1;34m(self, *args, **kwargs)\u001b[0m\n\u001b[0;32m     68\u001b[0m             \u001b[1;32mreturn\u001b[0m \u001b[0mcache\u001b[0m\u001b[1;33m[\u001b[0m\u001b[0mkey\u001b[0m\u001b[1;33m]\u001b[0m\u001b[1;33m\u001b[0m\u001b[1;33m\u001b[0m\u001b[0m\n\u001b[0;32m     69\u001b[0m         \u001b[1;32melse\u001b[0m\u001b[1;33m:\u001b[0m\u001b[1;33m\u001b[0m\u001b[1;33m\u001b[0m\u001b[0m\n\u001b[1;32m---> 70\u001b[1;33m             \u001b[0mresult\u001b[0m \u001b[1;33m=\u001b[0m \u001b[0mfunc\u001b[0m\u001b[1;33m(\u001b[0m\u001b[0mself\u001b[0m\u001b[1;33m,\u001b[0m \u001b[1;33m*\u001b[0m\u001b[0margs\u001b[0m\u001b[1;33m,\u001b[0m \u001b[1;33m**\u001b[0m\u001b[0mkwargs\u001b[0m\u001b[1;33m)\u001b[0m\u001b[1;33m\u001b[0m\u001b[1;33m\u001b[0m\u001b[0m\n\u001b[0m\u001b[0;32m     71\u001b[0m             \u001b[0mcache\u001b[0m\u001b[1;33m[\u001b[0m\u001b[0mkey\u001b[0m\u001b[1;33m]\u001b[0m \u001b[1;33m=\u001b[0m \u001b[0mresult\u001b[0m\u001b[1;33m\u001b[0m\u001b[1;33m\u001b[0m\u001b[0m\n\u001b[0;32m     72\u001b[0m             \u001b[1;32mreturn\u001b[0m \u001b[0mresult\u001b[0m\u001b[1;33m\u001b[0m\u001b[1;33m\u001b[0m\u001b[0m\n",
      "\u001b[1;32m~\\anaconda3\\lib\\site-packages\\cvxpy\\atoms\\atom.py\u001b[0m in \u001b[0;36mis_log_log_convex\u001b[1;34m(self)\u001b[0m\n\u001b[0;32m    215\u001b[0m         \u001b[1;32melif\u001b[0m \u001b[0mself\u001b[0m\u001b[1;33m.\u001b[0m\u001b[0mis_atom_log_log_convex\u001b[0m\u001b[1;33m(\u001b[0m\u001b[1;33m)\u001b[0m\u001b[1;33m:\u001b[0m\u001b[1;33m\u001b[0m\u001b[1;33m\u001b[0m\u001b[0m\n\u001b[0;32m    216\u001b[0m             \u001b[1;32mfor\u001b[0m \u001b[0midx\u001b[0m\u001b[1;33m,\u001b[0m \u001b[0marg\u001b[0m \u001b[1;32min\u001b[0m \u001b[0menumerate\u001b[0m\u001b[1;33m(\u001b[0m\u001b[0mself\u001b[0m\u001b[1;33m.\u001b[0m\u001b[0margs\u001b[0m\u001b[1;33m)\u001b[0m\u001b[1;33m:\u001b[0m\u001b[1;33m\u001b[0m\u001b[1;33m\u001b[0m\u001b[0m\n\u001b[1;32m--> 217\u001b[1;33m                 if not (arg.is_log_log_affine() or\n\u001b[0m\u001b[0;32m    218\u001b[0m                         \u001b[1;33m(\u001b[0m\u001b[0marg\u001b[0m\u001b[1;33m.\u001b[0m\u001b[0mis_log_log_convex\u001b[0m\u001b[1;33m(\u001b[0m\u001b[1;33m)\u001b[0m \u001b[1;32mand\u001b[0m \u001b[0mself\u001b[0m\u001b[1;33m.\u001b[0m\u001b[0mis_incr\u001b[0m\u001b[1;33m(\u001b[0m\u001b[0midx\u001b[0m\u001b[1;33m)\u001b[0m\u001b[1;33m)\u001b[0m \u001b[1;32mor\u001b[0m\u001b[1;33m\u001b[0m\u001b[1;33m\u001b[0m\u001b[0m\n\u001b[0;32m    219\u001b[0m                         (arg.is_log_log_concave() and self.is_decr(idx))):\n",
      "\u001b[1;32m~\\anaconda3\\lib\\site-packages\\cvxpy\\utilities\\performance_utils.py\u001b[0m in \u001b[0;36m_compute_once\u001b[1;34m(self, *args, **kwargs)\u001b[0m\n\u001b[0;32m     68\u001b[0m             \u001b[1;32mreturn\u001b[0m \u001b[0mcache\u001b[0m\u001b[1;33m[\u001b[0m\u001b[0mkey\u001b[0m\u001b[1;33m]\u001b[0m\u001b[1;33m\u001b[0m\u001b[1;33m\u001b[0m\u001b[0m\n\u001b[0;32m     69\u001b[0m         \u001b[1;32melse\u001b[0m\u001b[1;33m:\u001b[0m\u001b[1;33m\u001b[0m\u001b[1;33m\u001b[0m\u001b[0m\n\u001b[1;32m---> 70\u001b[1;33m             \u001b[0mresult\u001b[0m \u001b[1;33m=\u001b[0m \u001b[0mfunc\u001b[0m\u001b[1;33m(\u001b[0m\u001b[0mself\u001b[0m\u001b[1;33m,\u001b[0m \u001b[1;33m*\u001b[0m\u001b[0margs\u001b[0m\u001b[1;33m,\u001b[0m \u001b[1;33m**\u001b[0m\u001b[0mkwargs\u001b[0m\u001b[1;33m)\u001b[0m\u001b[1;33m\u001b[0m\u001b[1;33m\u001b[0m\u001b[0m\n\u001b[0m\u001b[0;32m     71\u001b[0m             \u001b[0mcache\u001b[0m\u001b[1;33m[\u001b[0m\u001b[0mkey\u001b[0m\u001b[1;33m]\u001b[0m \u001b[1;33m=\u001b[0m \u001b[0mresult\u001b[0m\u001b[1;33m\u001b[0m\u001b[1;33m\u001b[0m\u001b[0m\n\u001b[0;32m     72\u001b[0m             \u001b[1;32mreturn\u001b[0m \u001b[0mresult\u001b[0m\u001b[1;33m\u001b[0m\u001b[1;33m\u001b[0m\u001b[0m\n",
      "\u001b[1;32m~\\anaconda3\\lib\\site-packages\\cvxpy\\expressions\\expression.py\u001b[0m in \u001b[0;36mis_log_log_affine\u001b[1;34m(self)\u001b[0m\n\u001b[0;32m    227\u001b[0m         \"\"\"Is the expression affine?\n\u001b[0;32m    228\u001b[0m         \"\"\"\n\u001b[1;32m--> 229\u001b[1;33m         return (self.is_log_log_constant()\n\u001b[0m\u001b[0;32m    230\u001b[0m                 or (self.is_log_log_convex() and self.is_log_log_concave()))\n\u001b[0;32m    231\u001b[0m \u001b[1;33m\u001b[0m\u001b[0m\n",
      "\u001b[1;32m~\\anaconda3\\lib\\site-packages\\scipy\\sparse\\base.py\u001b[0m in \u001b[0;36m__bool__\u001b[1;34m(self)\u001b[0m\n\u001b[0;32m    281\u001b[0m             \u001b[1;32mreturn\u001b[0m \u001b[0mself\u001b[0m\u001b[1;33m.\u001b[0m\u001b[0mnnz\u001b[0m \u001b[1;33m!=\u001b[0m \u001b[1;36m0\u001b[0m\u001b[1;33m\u001b[0m\u001b[1;33m\u001b[0m\u001b[0m\n\u001b[0;32m    282\u001b[0m         \u001b[1;32melse\u001b[0m\u001b[1;33m:\u001b[0m\u001b[1;33m\u001b[0m\u001b[1;33m\u001b[0m\u001b[0m\n\u001b[1;32m--> 283\u001b[1;33m             raise ValueError(\"The truth value of an array with more than one \"\n\u001b[0m\u001b[0;32m    284\u001b[0m                              \"element is ambiguous. Use a.any() or a.all().\")\n\u001b[0;32m    285\u001b[0m     \u001b[0m__nonzero__\u001b[0m \u001b[1;33m=\u001b[0m \u001b[0m__bool__\u001b[0m\u001b[1;33m\u001b[0m\u001b[1;33m\u001b[0m\u001b[0m\n",
      "\u001b[1;31mValueError\u001b[0m: The truth value of an array with more than one element is ambiguous. Use a.any() or a.all()."
     ]
    }
   ],
   "source": [
    "import class_TP\n",
    "reload(class_TP)\n",
    "from class_TP import TP\n",
    "\n",
    "time_windows = [5, 10, 20]\n",
    "obj_val = []\n",
    "runtimes = []\n",
    "\n",
    "tp = TP(data)\n",
    "for time_window in time_windows:\n",
    "    x, problem = tp.problem_window(time_window)\n",
    "    \n",
    "#     sims = 10\n",
    "#     run_time = 0\n",
    "#     for i in range(sims):\n",
    "#         problem.solve()\n",
    "#         run_time += problem.solver_stats.solve_time\n",
    "#     run_times.append(run_time/sims)\n",
    "\n",
    "    problem.solve(verbose=True)\n",
    "    obj_val.append(-problem.objective.value)\n",
    "    runtimes.append(problem.solver_stats.solve_time)\n",
    "    \n",
    "    print(\"Time Window:\", time_window)\n",
    "    print(\"Run Time:\", problem.solver_stats.solve_time)\n",
    "    print(\"Objective Value:\", -problem.objective.value)\n",
    "#     x_val = spa.dok_matrix((tp.num_nodes, tp.num_nodes))\n",
    "#     for a in range(tp.num_arcs):\n",
    "#         x_val[tp.arcs[a]] = np.around(x[a].value, decimals=2)\n",
    "#     print(x_val.tocoo())\n",
    "\n",
    "plt.figure(1)\n",
    "plt.plot(time_windows, runtimes);\n",
    "plt.title(\"Run Time\");\n",
    "plt.xlabel(\"Time Window\");\n",
    "plt.ylabel(\"Run Time\");\n",
    "plt.figure(2)\n",
    "plt.plot(time_windows, obj_val);\n",
    "plt.title(\"Profit\");\n",
    "plt.xlabel(\"Time Window\");\n",
    "plt.ylabel(\"Profit\");"
   ]
  },
  {
   "cell_type": "code",
   "execution_count": 8,
   "metadata": {
    "scrolled": false
   },
   "outputs": [
    {
     "name": "stdout",
     "output_type": "stream",
     "text": [
      "Run Time: 0.1008728\n",
      "Run Time: 0.1162375\n",
      "Run Time: 0.1373452\n",
      "Run Time: 0.1404041\n",
      "Run Time: 0.1169746\n",
      "Run Time: 0.2042596\n",
      "Run Time: 0.1086392\n",
      "Run Time: 0.1171832\n",
      "Run Time: 0.122976\n",
      "Run Time: 0.1146664\n",
      "Run Time: 0.1595448\n",
      "Run Time: 0.1196764\n",
      "Run Time: 0.1827466\n",
      "Run Time: 0.1145813\n",
      "Run Time: 0.1209741\n",
      "Run Time: 0.1621789\n",
      "Run Time: 0.1875264\n",
      "Run Time: 0.1961291\n",
      "Run Time: 0.1812618\n",
      "Run Time: 0.2140715\n",
      "Run Time: 0.174247\n",
      "Run Time: 0.1909979\n",
      "Run Time: 0.2008207\n",
      "Run Time: 0.1677234\n",
      "Run Time: 0.1727318\n",
      "Run Time: 0.1026948\n",
      "Run Time: 0.1101213\n",
      "Run Time: 0.1097271\n",
      "Run Time: 0.1608175\n",
      "Run Time: 0.1451425\n",
      "Run Time: 0.0906714\n",
      "Run Time: 0.1762985\n",
      "Run Time: 0.103102\n",
      "Run Time: 0.1493531\n",
      "Run Time: 0.1318923\n",
      "Run Time: 0.1776844\n",
      "Run Time: 0.130563\n",
      "Run Time: 0.1154287\n",
      "Run Time: 0.2244114\n",
      "Run Time: 0.1027529\n",
      "Run Time: 0.1933858\n",
      "Run Time: 0.1651073\n",
      "Run Time: 0.198501\n",
      "Run Time: 0.1177862\n",
      "Run Time: 0.1935686\n",
      "Run Time: 0.1891117\n",
      "Run Time: 0.1920918\n",
      "Run Time: 0.1105273\n",
      "Run Time: 0.1064391\n",
      "Run Time: 0.1740807\n",
      "Run Time: 0.1523677\n",
      "Run Time: 0.1231108\n",
      "Run Time: 0.1063215\n",
      "Run Time: 0.1516169\n",
      "Run Time: 0.1528766\n",
      "Run Time: 0.1070154\n",
      "Run Time: 0.1302545\n",
      "Run Time: 0.1251372\n",
      "Run Time: 0.1476586\n",
      "Run Time: 0.1094278\n",
      "Run Time: 0.1154874\n",
      "Run Time: 0.0972992\n",
      "Run Time: 0.1271128\n",
      "Run Time: 0.1354963\n",
      "Run Time: 0.2032366\n",
      "Run Time: 0.1983866\n",
      "Run Time: 0.1209137\n",
      "Run Time: 0.1105333\n",
      "Run Time: 0.124029\n",
      "Run Time: 0.1296756\n",
      "Run Time: 0.124434\n",
      "Run Time: 0.1401029\n",
      "Run Time: 0.1874989\n",
      "Run Time: 0.1168836\n",
      "Run Time: 0.1067093\n",
      "Run Time: 0.1188906\n",
      "Run Time: 0.1439869\n",
      "Run Time: 0.1593351\n",
      "Run Time: 0.1266732\n",
      "Run Time: 0.1279708\n",
      "Run Time: 0.1197775\n",
      "Run Time: 0.1233038\n",
      "Run Time: 0.1026713\n",
      "Run Time: 0.1340632\n",
      "Run Time: 0.1155118\n",
      "Run Time: 0.1767707\n",
      "Run Time: 0.174381\n",
      "Run Time: 0.1227767\n",
      "Run Time: 0.1594454\n",
      "Run Time: 0.1448014\n",
      "Run Time: 0.1320479\n",
      "Run Time: 0.1205346\n",
      "Run Time: 0.1163236\n",
      "Run Time: 0.1721154\n",
      "Run Time: 0.143824\n",
      "Run Time: 0.1772568\n",
      "Run Time: 0.1925424\n",
      "Run Time: 0.1860318\n",
      "Run Time: 0.1309773\n",
      "Run Time: 0.1078743\n"
     ]
    }
   ],
   "source": [
    "import class_TP\n",
    "reload(class_TP)\n",
    "from class_TP import TP\n",
    "\n",
    "tp = TP(data)\n",
    "window = 0  # fixed at zero\n",
    "t, x, problem = tp.problem_param(window)\n",
    "t_min, _ = tp.time_cons(window)\n",
    "t_vals = t_min[:]\n",
    "\n",
    "t_range = 20\n",
    "step = 2\n",
    "dim = int(t_range/step)\n",
    "heat_map = np.zeros((dim, dim))\n",
    "run_times = np.zeros((dim, dim))\n",
    "t0_vec = np.arange(0, t_range, step)\n",
    "t1_vec = np.arange(0, t_range, step)\n",
    "c1 = 15\n",
    "c2 = 16\n",
    "for t0_idx in range(len(t0_vec)):\n",
    "    for t1_idx in range(len(t1_vec)):\n",
    "        t0 = t0_vec[t0_idx]\n",
    "        t1 = t1_vec[t1_idx]\n",
    "        t_vals[c1] = t_min[c1] + t0\n",
    "        t_vals[c2] = t_min[c2] + t1\n",
    "        t.value = t_vals\n",
    "        problem.solve(solver=\"ECOS\")\n",
    "        obj_val = -problem.objective.value\n",
    "        run_time = problem.solver_stats.solve_time\n",
    "        heat_map[t0_idx, t1_idx] = obj_val\n",
    "        run_times[t0_idx, t1_idx] = run_time\n",
    "        \n",
    "        print(\"Run Time:\", run_time)\n",
    "#         print(\"Objective Value:\", obj_val)\n",
    "#         print(t.value[c1], t.value[c2])\n",
    "\n",
    "#         x_val = spa.dok_matrix((tp.num_nodes, tp.num_nodes))\n",
    "#         for a in range(tp.num_arcs):\n",
    "#             x_val[tp.arcs[a]] = np.around(x[a].value, decimals=2)\n",
    "#         print(x_val.tocoo())"
   ]
  },
  {
   "cell_type": "code",
   "execution_count": 9,
   "metadata": {},
   "outputs": [
    {
     "data": {
      "image/png": "[encoded data removed]",
      "text/plain": [
       "<Figure size 432x288 with 2 Axes>"
      ]
     },
     "metadata": {
      "needs_background": "light"
     },
     "output_type": "display_data"
    }
   ],
   "source": [
    "plt.imshow(heat_map, cmap='hot', interpolation='nearest', extent=[0, t_range, 0, t_range])\n",
    "plt.colorbar()\n",
    "plt.show()"
   ]
  },
  {
   "cell_type": "code",
   "execution_count": 10,
   "metadata": {},
   "outputs": [
    {
     "data": {
      "text/plain": [
       "array([[648.90443654, 648.90443654, 648.90443654, 648.72165146,\n",
       "        648.72165146, 648.72165147, 648.72165147, 648.72165146,\n",
       "        648.72165147, 648.72165147],\n",
       "       [648.90443654, 648.90443654, 648.90443654, 648.72165146,\n",
       "        648.72165146, 648.72165147, 648.72165147, 648.72165146,\n",
       "        648.72165147, 648.72165147],\n",
       "       [648.90443654, 648.90443654, 648.90443654, 648.72165146,\n",
       "        648.72165146, 648.72165147, 648.72165147, 648.72165146,\n",
       "        648.72165147, 648.72165147],\n",
       "       [648.90443654, 648.90443654, 648.90443654, 648.72165146,\n",
       "        648.72165146, 648.72165147, 648.72165147, 648.72165146,\n",
       "        648.72165147, 648.72165147],\n",
       "       [649.25943505, 649.25943505, 649.25943505, 649.25943505,\n",
       "        649.25943505, 649.25943505, 649.25943505, 649.25943505,\n",
       "        649.25943505, 649.25943505],\n",
       "       [649.25943505, 649.25943505, 649.25943505, 649.25943505,\n",
       "        649.25943505, 649.25943505, 649.25943505, 649.25943505,\n",
       "        649.25943505, 649.25943505],\n",
       "       [648.90443655, 648.90443655, 648.90443655, 644.57512624,\n",
       "        644.57512624, 644.57512624, 644.57512623, 644.57512624,\n",
       "        644.57512624, 644.57512624],\n",
       "       [648.90443655, 648.90443655, 648.90443655, 644.57512624,\n",
       "        644.57512624, 644.57512624, 644.57512623, 644.57512624,\n",
       "        644.57512624, 644.57512624],\n",
       "       [648.90443655, 648.90443655, 648.90443655, 644.57512624,\n",
       "        644.57512624, 644.57512624, 644.57512623, 644.57512624,\n",
       "        644.57512624, 644.57512624],\n",
       "       [648.90443654, 648.90443655, 648.90443655, 644.57512624,\n",
       "        644.57512624, 644.57512624, 644.57512623, 644.57512624,\n",
       "        644.57512624, 644.57512624]])"
      ]
     },
     "execution_count": 10,
     "metadata": {},
     "output_type": "execute_result"
    }
   ],
   "source": [
    "heat_map"
   ]
  },
  {
   "cell_type": "code",
   "execution_count": 11,
   "metadata": {},
   "outputs": [],
   "source": [
    "# run_seconds = [t / 60 for t in run_times]\n",
    "# run_seconds"
   ]
  },
  {
   "cell_type": "markdown",
   "metadata": {},
   "source": [
    "## Gradient Descent"
   ]
  },
  {
   "cell_type": "code",
   "execution_count": 9,
   "metadata": {},
   "outputs": [],
   "source": [
    "def f(x):\n",
    "    return np.transpose(p) @ x\n",
    "\n",
    "def df(x):\n",
    "    return t.gradient  # ?\n",
    "#     return p\n",
    "\n",
    "def line_search(x, alpha=0.5, beta=0.9):\n",
    "    r = 1\n",
    "    for k in range(200):\n",
    "        problem.solve(requires_grad=True, solver=cp.DIFFCP, solve_method=\"ECOS\")\n",
    "        f_next = f(x + r * dx)\n",
    "        x.gradient = -p  # ?\n",
    "        problem.backward()\n",
    "        f_extrap = f(x) + alpha * r * df(x).T.dot(dx)\n",
    "        print(f_next)\n",
    "        print(f_extrap)\n",
    "        if f_next <= f_extrap:\n",
    "            return x + r * dx\n",
    "        r *= beta"
   ]
  },
  {
   "cell_type": "code",
   "execution_count": 10,
   "metadata": {},
   "outputs": [
    {
     "name": "stdout",
     "output_type": "stream",
     "text": [
      "[ 5.1588076   8.62114603  9.11817331  6.71653133  3.78098254  4.91590914\n",
      "  2.89893838  2.6660399   9.43440004  8.06323652  5.16708239  3.44967913\n",
      "  6.65929619  4.77520718 38.63799341  5.10535945 12.45083243  3.72000899\n",
      "  2.88659711  0.          7.25640809 10.32220827  7.44069298  4.95364705\n",
      "  4.23334576  4.38247331  4.14996216 10.90331031  8.67462598  6.64691668\n",
      "  4.87241759  6.87359497  6.24757228 39.8258168   5.39500007 13.49558782\n",
      "  4.82538758  4.27870366  6.57338183  0.          8.58766616  6.21989634\n",
      "  3.24309511  4.8374381   2.44283963  2.21027295  8.95267483  7.55493261\n",
      "  4.72840579  2.93990311  6.14174619  4.35301046 38.15417837  4.57133355\n",
      " 11.93098299  3.21786882  2.37271913  7.07783329  0.          4.58614217\n",
      "  3.15572375  1.33562119  2.38657892  2.37270883  9.34538275  5.84642285\n",
      "  5.94930059  5.84142398  4.04048073  6.25879283 36.96013995  2.6229421\n",
      " 10.86903607  2.05134777  3.36467765 10.24252823  0.          3.91877379\n",
      "  4.99601418  3.06055756  2.82757488  9.59198189  8.21640511  5.32980199\n",
      "  3.59932102  6.80985079  4.93884302 38.79654851  5.24689343 12.59874573\n",
      "  3.8742156   3.03545295  7.22644603  0.          3.88631923  4.60360483\n",
      "  4.40112741 11.23391794  8.39287407  6.91357119  5.21760683  6.58276232\n",
      "  6.50717654 39.5269883   5.13736227 13.36451416  4.59875353  4.62414874\n",
      "  4.88855399  0.          3.36906298  3.14973339  9.82660464  8.09303404\n",
      "  5.75040022  3.79621776  6.54312202  5.42384003 38.88032028  4.93825129\n",
      " 12.52959188  3.87842565  3.15642426  4.10840468  0.          3.79743357\n",
      " 10.60194733  7.16150182  7.47666502  5.67477183  5.3587746   7.72532558\n",
      " 38.31487853  3.88738821 12.09126495  3.34846782  4.2141854   4.55890378\n",
      "  0.         10.96564736  7.44439648  7.65147054  5.93244759  5.63496361\n",
      "  7.4048291  38.59039725  4.18491002 12.4179967   3.64746348  4.66700299\n",
      "  4.32820985  0.          6.67491878  6.64799775  6.67230831  4.87021551\n",
      "  6.78759875 37.78221154  3.45482015 11.69999895  2.87833983  4.19622841\n",
      " 11.0297878   0.          6.84606817  5.26084442  6.57398196  6.44346355\n",
      " 39.47846516  5.14794882 13.39510872  4.58486965  4.69248039  8.45776222\n",
      "  0.          6.17559808  3.5358234  33.83600224 -0.57085639  7.66747773\n",
      " -1.10899622  0.09436704  6.84171116  0.          7.29295865  5.7703543\n",
      " 39.63825471  5.88218052 13.53609106  4.774226    3.97226442  4.99309035\n",
      "  0.          5.51989018 39.16813691  5.28461839 12.84120171  4.18082961\n",
      "  3.39489419  6.66202651  0.         37.58534956  3.17850681 11.41407416\n",
      "  2.64086954  3.7883762   6.44954655  0.          5.82771588 -2.81375976\n",
      " -2.99828921 39.60579179  0.         13.36517328  4.72348352  3.98381883\n",
      "  5.17620013  0.         13.51970142  4.17010929 13.2987786   0.\n",
      "  3.97801066  4.61017033  0.          4.35493434  0.        ] @ (var4880 + [ -5.1588076   -8.62114603  -9.11817331  -6.71653133  -3.78098254\n",
      "  -4.91590914  -2.89893838  -2.6660399   -9.43440004  -8.06323652\n",
      "  -5.16708239  -3.44967913  -6.65929619  -4.77520718 -38.63799341\n",
      "  -5.10535945 -12.45083243  -3.72000899  -2.88659711  -0.\n",
      "  -7.25640809 -10.32220827  -7.44069298  -4.95364705  -4.23334576\n",
      "  -4.38247331  -4.14996216 -10.90331031  -8.67462598  -6.64691668\n",
      "  -4.87241759  -6.87359497  -6.24757228 -39.8258168   -5.39500007\n",
      " -13.49558782  -4.82538758  -4.27870366  -6.57338183  -0.\n",
      "  -8.58766616  -6.21989634  -3.24309511  -4.8374381   -2.44283963\n",
      "  -2.21027295  -8.95267483  -7.55493261  -4.72840579  -2.93990311\n",
      "  -6.14174619  -4.35301046 -38.15417837  -4.57133355 -11.93098299\n",
      "  -3.21786882  -2.37271913  -7.07783329  -0.          -4.58614217\n",
      "  -3.15572375  -1.33562119  -2.38657892  -2.37270883  -9.34538275\n",
      "  -5.84642285  -5.94930059  -5.84142398  -4.04048073  -6.25879283\n",
      " -36.96013995  -2.6229421  -10.86903607  -2.05134777  -3.36467765\n",
      " -10.24252823  -0.          -3.91877379  -4.99601418  -3.06055756\n",
      "  -2.82757488  -9.59198189  -8.21640511  -5.32980199  -3.59932102\n",
      "  -6.80985079  -4.93884302 -38.79654851  -5.24689343 -12.59874573\n",
      "  -3.8742156   -3.03545295  -7.22644603  -0.          -3.88631923\n",
      "  -4.60360483  -4.40112741 -11.23391794  -8.39287407  -6.91357119\n",
      "  -5.21760683  -6.58276232  -6.50717654 -39.5269883   -5.13736227\n",
      " -13.36451416  -4.59875353  -4.62414874  -4.88855399  -0.\n",
      "  -3.36906298  -3.14973339  -9.82660464  -8.09303404  -5.75040022\n",
      "  -3.79621776  -6.54312202  -5.42384003 -38.88032028  -4.93825129\n",
      " -12.52959188  -3.87842565  -3.15642426  -4.10840468  -0.\n",
      "  -3.79743357 -10.60194733  -7.16150182  -7.47666502  -5.67477183\n",
      "  -5.3587746   -7.72532558 -38.31487853  -3.88738821 -12.09126495\n",
      "  -3.34846782  -4.2141854   -4.55890378  -0.         -10.96564736\n",
      "  -7.44439648  -7.65147054  -5.93244759  -5.63496361  -7.4048291\n",
      " -38.59039725  -4.18491002 -12.4179967   -3.64746348  -4.66700299\n",
      "  -4.32820985  -0.          -6.67491878  -6.64799775  -6.67230831\n",
      "  -4.87021551  -6.78759875 -37.78221154  -3.45482015 -11.69999895\n",
      "  -2.87833983  -4.19622841 -11.0297878   -0.          -6.84606817\n",
      "  -5.26084442  -6.57398196  -6.44346355 -39.47846516  -5.14794882\n",
      " -13.39510872  -4.58486965  -4.69248039  -8.45776222  -0.\n",
      "  -6.17559808  -3.5358234  -33.83600224   0.57085639  -7.66747773\n",
      "   1.10899622  -0.09436704  -6.84171116  -0.          -7.29295865\n",
      "  -5.7703543  -39.63825471  -5.88218052 -13.53609106  -4.774226\n",
      "  -3.97226442  -4.99309035  -0.          -5.51989018 -39.16813691\n",
      "  -5.28461839 -12.84120171  -4.18082961  -3.39489419  -6.66202651\n",
      "  -0.         -37.58534956  -3.17850681 -11.41407416  -2.64086954\n",
      "  -3.7883762   -6.44954655  -0.          -5.82771588   2.81375976\n",
      "   2.99828921 -39.60579179  -0.         -13.36517328  -4.72348352\n",
      "  -3.98381883  -5.17620013  -0.         -13.51970142  -4.17010929\n",
      " -13.2987786   -0.          -3.97801066  -4.61017033  -0.\n",
      "  -4.35493434  -0.        ])\n",
      "[ 5.1588076   8.62114603  9.11817331  6.71653133  3.78098254  4.91590914\n",
      "  2.89893838  2.6660399   9.43440004  8.06323652  5.16708239  3.44967913\n",
      "  6.65929619  4.77520718 38.63799341  5.10535945 12.45083243  3.72000899\n",
      "  2.88659711  0.          7.25640809 10.32220827  7.44069298  4.95364705\n",
      "  4.23334576  4.38247331  4.14996216 10.90331031  8.67462598  6.64691668\n",
      "  4.87241759  6.87359497  6.24757228 39.8258168   5.39500007 13.49558782\n",
      "  4.82538758  4.27870366  6.57338183  0.          8.58766616  6.21989634\n",
      "  3.24309511  4.8374381   2.44283963  2.21027295  8.95267483  7.55493261\n",
      "  4.72840579  2.93990311  6.14174619  4.35301046 38.15417837  4.57133355\n",
      " 11.93098299  3.21786882  2.37271913  7.07783329  0.          4.58614217\n",
      "  3.15572375  1.33562119  2.38657892  2.37270883  9.34538275  5.84642285\n",
      "  5.94930059  5.84142398  4.04048073  6.25879283 36.96013995  2.6229421\n",
      " 10.86903607  2.05134777  3.36467765 10.24252823  0.          3.91877379\n",
      "  4.99601418  3.06055756  2.82757488  9.59198189  8.21640511  5.32980199\n",
      "  3.59932102  6.80985079  4.93884302 38.79654851  5.24689343 12.59874573\n",
      "  3.8742156   3.03545295  7.22644603  0.          3.88631923  4.60360483\n",
      "  4.40112741 11.23391794  8.39287407  6.91357119  5.21760683  6.58276232\n",
      "  6.50717654 39.5269883   5.13736227 13.36451416  4.59875353  4.62414874\n",
      "  4.88855399  0.          3.36906298  3.14973339  9.82660464  8.09303404\n",
      "  5.75040022  3.79621776  6.54312202  5.42384003 38.88032028  4.93825129\n",
      " 12.52959188  3.87842565  3.15642426  4.10840468  0.          3.79743357\n",
      " 10.60194733  7.16150182  7.47666502  5.67477183  5.3587746   7.72532558\n",
      " 38.31487853  3.88738821 12.09126495  3.34846782  4.2141854   4.55890378\n",
      "  0.         10.96564736  7.44439648  7.65147054  5.93244759  5.63496361\n",
      "  7.4048291  38.59039725  4.18491002 12.4179967   3.64746348  4.66700299\n",
      "  4.32820985  0.          6.67491878  6.64799775  6.67230831  4.87021551\n",
      "  6.78759875 37.78221154  3.45482015 11.69999895  2.87833983  4.19622841\n",
      " 11.0297878   0.          6.84606817  5.26084442  6.57398196  6.44346355\n",
      " 39.47846516  5.14794882 13.39510872  4.58486965  4.69248039  8.45776222\n",
      "  0.          6.17559808  3.5358234  33.83600224 -0.57085639  7.66747773\n",
      " -1.10899622  0.09436704  6.84171116  0.          7.29295865  5.7703543\n",
      " 39.63825471  5.88218052 13.53609106  4.774226    3.97226442  4.99309035\n",
      "  0.          5.51989018 39.16813691  5.28461839 12.84120171  4.18082961\n",
      "  3.39489419  6.66202651  0.         37.58534956  3.17850681 11.41407416\n",
      "  2.64086954  3.7883762   6.44954655  0.          5.82771588 -2.81375976\n",
      " -2.99828921 39.60579179  0.         13.36517328  4.72348352  3.98381883\n",
      "  5.17620013  0.         13.51970142  4.17010929 13.2987786   0.\n",
      "  3.97801066  4.61017033  0.          4.35493434  0.        ] @ var4880 + -2.5637898408064226\n"
     ]
    },
    {
     "ename": "Exception",
     "evalue": "Cannot evaluate the truth value of a constraint or chain constraints, e.g., 1 >= x >= 0.",
     "output_type": "error",
     "traceback": [
      "\u001b[1;31m---------------------------------------------------------------------------\u001b[0m",
      "\u001b[1;31mException\u001b[0m                                 Traceback (most recent call last)",
      "\u001b[1;32m<ipython-input-10-c6e5bb857553>\u001b[0m in \u001b[0;36m<module>\u001b[1;34m\u001b[0m\n\u001b[0;32m     19\u001b[0m         \u001b[1;32mbreak\u001b[0m\u001b[1;33m\u001b[0m\u001b[1;33m\u001b[0m\u001b[0m\n\u001b[0;32m     20\u001b[0m     \u001b[0mdx\u001b[0m \u001b[1;33m=\u001b[0m \u001b[1;33m-\u001b[0m\u001b[0mdf\u001b[0m\u001b[1;33m(\u001b[0m\u001b[0mx\u001b[0m\u001b[1;33m)\u001b[0m\u001b[1;33m\u001b[0m\u001b[1;33m\u001b[0m\u001b[0m\n\u001b[1;32m---> 21\u001b[1;33m     \u001b[0mx\u001b[0m \u001b[1;33m=\u001b[0m \u001b[0mline_search\u001b[0m\u001b[1;33m(\u001b[0m\u001b[0mx\u001b[0m\u001b[1;33m)\u001b[0m\u001b[1;33m\u001b[0m\u001b[1;33m\u001b[0m\u001b[0m\n\u001b[0m\u001b[0;32m     22\u001b[0m     \u001b[0mx_hist\u001b[0m\u001b[1;33m.\u001b[0m\u001b[0mappend\u001b[0m\u001b[1;33m(\u001b[0m\u001b[0mx\u001b[0m\u001b[1;33m)\u001b[0m\u001b[1;33m\u001b[0m\u001b[1;33m\u001b[0m\u001b[0m\n\u001b[0;32m     23\u001b[0m \u001b[1;33m\u001b[0m\u001b[0m\n",
      "\u001b[1;32m<ipython-input-9-f5c62404d5b7>\u001b[0m in \u001b[0;36mline_search\u001b[1;34m(x, alpha, beta)\u001b[0m\n\u001b[0;32m     15\u001b[0m         \u001b[0mprint\u001b[0m\u001b[1;33m(\u001b[0m\u001b[0mf_next\u001b[0m\u001b[1;33m)\u001b[0m\u001b[1;33m\u001b[0m\u001b[1;33m\u001b[0m\u001b[0m\n\u001b[0;32m     16\u001b[0m         \u001b[0mprint\u001b[0m\u001b[1;33m(\u001b[0m\u001b[0mf_extrap\u001b[0m\u001b[1;33m)\u001b[0m\u001b[1;33m\u001b[0m\u001b[1;33m\u001b[0m\u001b[0m\n\u001b[1;32m---> 17\u001b[1;33m         \u001b[1;32mif\u001b[0m \u001b[0mf_next\u001b[0m \u001b[1;33m<=\u001b[0m \u001b[0mf_extrap\u001b[0m\u001b[1;33m:\u001b[0m\u001b[1;33m\u001b[0m\u001b[1;33m\u001b[0m\u001b[0m\n\u001b[0m\u001b[0;32m     18\u001b[0m             \u001b[1;32mreturn\u001b[0m \u001b[0mx\u001b[0m \u001b[1;33m+\u001b[0m \u001b[0mr\u001b[0m \u001b[1;33m*\u001b[0m \u001b[0mdx\u001b[0m\u001b[1;33m\u001b[0m\u001b[1;33m\u001b[0m\u001b[0m\n\u001b[0;32m     19\u001b[0m         \u001b[0mr\u001b[0m \u001b[1;33m*=\u001b[0m \u001b[0mbeta\u001b[0m\u001b[1;33m\u001b[0m\u001b[1;33m\u001b[0m\u001b[0m\n",
      "\u001b[1;32m~\\anaconda3\\lib\\site-packages\\cvxpy\\constraints\\constraint.py\u001b[0m in \u001b[0;36m__bool__\u001b[1;34m(self)\u001b[0m\n\u001b[0;32m    225\u001b[0m         \u001b[0mRaising\u001b[0m \u001b[0man\u001b[0m \u001b[0merror\u001b[0m \u001b[0mhere\u001b[0m \u001b[0mprevents\u001b[0m \u001b[0mwriting\u001b[0m \u001b[0mchained\u001b[0m \u001b[0mconstraints\u001b[0m\u001b[1;33m.\u001b[0m\u001b[1;33m\u001b[0m\u001b[1;33m\u001b[0m\u001b[0m\n\u001b[0;32m    226\u001b[0m         \"\"\"\n\u001b[1;32m--> 227\u001b[1;33m         \u001b[1;32mreturn\u001b[0m \u001b[0mself\u001b[0m\u001b[1;33m.\u001b[0m\u001b[0m_chain_constraints\u001b[0m\u001b[1;33m(\u001b[0m\u001b[1;33m)\u001b[0m\u001b[1;33m\u001b[0m\u001b[1;33m\u001b[0m\u001b[0m\n\u001b[0m\u001b[0;32m    228\u001b[0m \u001b[1;33m\u001b[0m\u001b[0m\n\u001b[0;32m    229\u001b[0m     \u001b[1;31m# TODO(rileyjmurray): add a function to compute dual-variable violation.\u001b[0m\u001b[1;33m\u001b[0m\u001b[1;33m\u001b[0m\u001b[1;33m\u001b[0m\u001b[0m\n",
      "\u001b[1;32m~\\anaconda3\\lib\\site-packages\\cvxpy\\constraints\\constraint.py\u001b[0m in \u001b[0;36m_chain_constraints\u001b[1;34m(self)\u001b[0m\n\u001b[0;32m    212\u001b[0m         \"\"\"Raises an error due to chained constraints.\n\u001b[0;32m    213\u001b[0m         \"\"\"\n\u001b[1;32m--> 214\u001b[1;33m         raise Exception(\n\u001b[0m\u001b[0;32m    215\u001b[0m             (\"Cannot evaluate the truth value of a constraint or \"\n\u001b[0;32m    216\u001b[0m              \"chain constraints, e.g., 1 >= x >= 0.\")\n",
      "\u001b[1;31mException\u001b[0m: Cannot evaluate the truth value of a constraint or chain constraints, e.g., 1 >= x >= 0."
     ]
    }
   ],
   "source": [
    "import class_TP\n",
    "reload(class_TP)\n",
    "from class_TP import TP\n",
    "\n",
    "tp = TP(data)\n",
    "window = 1\n",
    "t, x, problem = tp.problem_param()\n",
    "t_min, t_max = tp.time_cons(window)\n",
    "_,_,_,p = tp.flow_vars()\n",
    "t.value = [(a + b) / 2.0 for a, b in zip(t_min, t_max)]\n",
    "\n",
    "iters = 100\n",
    "t_hist = []\n",
    "loss_hist = []\n",
    "runtime_hist = []\n",
    "for i in range(iters):\n",
    "    if (i > 1 and loss_hist[-2] - loss_hist[-1] < .1):\n",
    "        print(\"Line search converged in %d iterations\" % (i))\n",
    "        break\n",
    "    dx = -df(x)\n",
    "    x = line_search(x)\n",
    "    \n",
    "    t_hist.append(t.value)\n",
    "    loss_hist.append(problem.objective.value)\n",
    "    runtime_hist.append(problem.solver_stats.solve_time)\n",
    "\n",
    "    print(\"Iteration\", i)\n",
    "    print(\"Objective Value:\", -problem.objective.value)\n",
    "    print(\"Runt Time:\", problem.solver_stats.solve_time)"
   ]
  },
  {
   "cell_type": "code",
   "execution_count": 16,
   "metadata": {
    "scrolled": true
   },
   "outputs": [
    {
     "name": "stdout",
     "output_type": "stream",
     "text": [
      "Iteration 0\n",
      "Objective Value: 775.0384117576327\n",
      "Iteration 1\n",
      "Objective Value: 778.2516327148282\n",
      "Iteration 2\n",
      "Objective Value: 784.5684349698762\n",
      "Iteration 3\n",
      "Objective Value: 784.5684349695255\n"
     ]
    }
   ],
   "source": [
    "import class_TP\n",
    "reload(class_TP)\n",
    "from class_TP import TP\n",
    "\n",
    "tp = TP(data)\n",
    "window = 1\n",
    "t, x, problem = tp.problem_param()\n",
    "t_min, t_max = tp.time_cons(window)\n",
    "_,_,_,p = tp.flow_vars()\n",
    "t.value = [(a + b) / 2.0 for a, b in zip(t_min, t_max)] # average of window\n",
    "# t.value = t_min[:]\n",
    "\n",
    "iters = 20\n",
    "learn_rate = .1\n",
    "t_hist = []\n",
    "loss_hist = []\n",
    "runtime_hist = []\n",
    "for i in range(iters):\n",
    "#     acceleration_lookback=10, eps=1e-03, max_iters=1000\n",
    "    problem.solve(requires_grad=True, solver=cp.DIFFCP, solve_method=\"ECOS\")\n",
    "    x.gradient = -p\n",
    "    problem.backward()\n",
    "    t.value -= learn_rate * t.gradient\n",
    "    t.value = np.minimum(np.maximum(t.value, t_min), t_max)\n",
    "    \n",
    "    t_hist.append(t.value)\n",
    "    loss_hist.append(problem.objective.value)\n",
    "    runtime_hist.append(problem.solver_stats.solve_time)\n",
    "\n",
    "    print(\"Iteration\", i)\n",
    "    print(\"Objective Value:\", -problem.objective.value)\n",
    "    print(\"Runt Time:\", problem.solver_stats.solve_time)\n",
    "    \n",
    "#     x_val = spa.dok_matrix((tp.num_nodes, tp.num_nodes))\n",
    "#     for a in range(tp.num_arcs):\n",
    "#         x_val[tp.arcs[a]] = np.around(x[a].value, decimals=2)\n",
    "#     print(x_val.tocoo())"
   ]
  },
  {
   "cell_type": "code",
   "execution_count": 9,
   "metadata": {},
   "outputs": [
    {
     "data": {
      "image/png": "[encoded data removed]",
      "text/plain": [
       "<Figure size 432x288 with 1 Axes>"
      ]
     },
     "metadata": {
      "needs_background": "light"
     },
     "output_type": "display_data"
    },
    {
     "data": {
      "image/png": "[encoded data removed]",
      "text/plain": [
       "<Figure size 432x288 with 1 Axes>"
      ]
     },
     "metadata": {
      "needs_background": "light"
     },
     "output_type": "display_data"
    }
   ],
   "source": [
    "plt.figure(1)\n",
    "plt.plot(loss_hist);\n",
    "plt.title(\"Loss\");\n",
    "plt.figure(2)\n",
    "plt.plot(runtime_hist);\n",
    "plt.title(\"Run Time\");"
   ]
  },
  {
   "cell_type": "code",
   "execution_count": null,
   "metadata": {},
   "outputs": [],
   "source": [
    "import class_TP\n",
    "reload(class_TP)\n",
    "from class_TP import TP\n",
    "\n",
    "tp = TP(data)\n",
    "window = 1\n",
    "t, x, problem = tp.problem_param()\n",
    "t_min, t_max = tp.time_cons(window)\n",
    "_,_,_,p = tp.flow_vars()\n",
    "t.value = [(a + b) / 2.0 for a, b in zip(t_min, t_max)] # average of window\n",
    "# t.value = t_min[:]\n",
    "\n",
    "learn_rate = .1\n",
    "t_hist = []\n",
    "loss_hist = []\n",
    "runtime_hist = []\n",
    "i = 0\n",
    "while (i < 2 or loss_hist[-2] - loss_hist[-1] > .1):\n",
    "#     acceleration_lookback=10, eps=1e-03, max_iters=1000\n",
    "    problem.solve(requires_grad=True, solver=cp.DIFFCP, solve_method=\"ECOS\")\n",
    "    x.gradient = -p\n",
    "    problem.backward()\n",
    "    t.value -= learn_rate * t.gradient\n",
    "    t.value = np.minimum(np.maximum(t.value, t_min), t_max)\n",
    "    \n",
    "    t_hist.append(t.value)\n",
    "    loss_hist.append(problem.objective.value)\n",
    "    runtime_hist.append(problem.solver_stats.solve_time)\n",
    "\n",
    "    print(\"Iteration\", i)\n",
    "    print(\"Objective Value:\", -problem.objective.value)\n",
    "    print(\"Runt Time:\", problem.solver_stats.solve_time)\n",
    "    i += 1\n",
    "    \n",
    "#     x_val = spa.dok_matrix((tp.num_nodes, tp.num_nodes))\n",
    "#     for a in range(tp.num_arcs):\n",
    "#         x_val[tp.arcs[a]] = np.around(x[a].value, decimals=2)\n",
    "#     print(x_val.tocoo())"
   ]
  },
  {
   "cell_type": "markdown",
   "metadata": {},
   "source": [
    "## Other"
   ]
  },
  {
   "cell_type": "code",
   "execution_count": null,
   "metadata": {},
   "outputs": [],
   "source": [
    "# x-axis: iteration, y-axis: -profit\n",
    "# can also track first two t-value elements (see where they're going on 2D plane)\n",
    "# for above\n",
    "\n",
    "\n",
    "# torch.set_default_dtype(torch.double)\n",
    "import class_TP\n",
    "reload(class_TP)\n",
    "from class_TP import TP\n",
    "\n",
    "tp = TP(data)\n",
    "window = 0  # fixed at zero\n",
    "t, x, _, problem = tp.problem_param()\n",
    "layer = CvxpyLayer(problem, [t], [x])\n",
    "\n",
    "t_th = torch.rand(t.shape, requires_grad=True)\n",
    "output = layer(t_th)\n",
    "\n",
    "# _,_,_,p = tp.flow_vars()\n",
    "# loss = torch.dot(torch.from_numpy(p), tf.convert_to_tensor(x))\n",
    "\n",
    "# # Torch.opt.SGD\n",
    "# opt.zero_grad()\n",
    "# l = loss(Xbatch, Ybatch)\n",
    "# l.backward()\n",
    "# opt.step()"
   ]
  },
  {
   "cell_type": "markdown",
   "metadata": {},
   "source": [
    "## Map\n",
    "Needs updating"
   ]
  },
  {
   "cell_type": "code",
   "execution_count": null,
   "metadata": {},
   "outputs": [],
   "source": [
    "import geopandas as gpd\n",
    "import contextily as ctx"
   ]
  },
  {
   "cell_type": "code",
   "execution_count": null,
   "metadata": {},
   "outputs": [],
   "source": [
    "x_val = spa.dok_matrix((n+taxis+2, n+taxis+2))\n",
    "for i in range(n+taxis+2):\n",
    "    for j in s_list[i]:\n",
    "        x_val[i,j] = x[arcs.get((i,j))].value\n",
    "print(\"Time Window:\", time_window)\n",
    "print(x_val.tocoo())\n",
    "print(objective.value)"
   ]
  },
  {
   "cell_type": "code",
   "execution_count": null,
   "metadata": {},
   "outputs": [],
   "source": [
    "arcs = np.asarray(np.nonzero(x_val))\n",
    "# locs = np.unique(arcs[arcs < 200])\n",
    "# lons = data.iloc[locs, 3]\n",
    "# lats = data.iloc[locs, 4]\n",
    "\n",
    "loc_origin = arcs[0][:-taxis-2]\n",
    "loc_destin = arcs[1][:-taxis-2]\n",
    "\n",
    "lon_origin = data.iloc[loc_origin, 3].to_numpy()\n",
    "lat_origin = data.iloc[loc_origin, 4].to_numpy()\n",
    "lon_destin = data.iloc[loc_destin, 3].to_numpy()\n",
    "lat_destin = data.iloc[loc_destin, 4].to_numpy()"
   ]
  },
  {
   "cell_type": "code",
   "execution_count": null,
   "metadata": {},
   "outputs": [],
   "source": [
    "# from shapely.geometry import Point, LineString\n",
    "from matplotlib.patches import FancyArrowPatch\n",
    "\n",
    "nyc = gpd.read_file(gpd.datasets.get_path('nybb'))\n",
    "# nyc = nyc.to_crs(epsg=3857)\n",
    "nyc = nyc.to_crs(epsg=4326)\n",
    "ax = nyc.plot(figsize=(20, 20), alpha=0.5, edgecolor='k')\n",
    "ctx.add_basemap(ax)\n",
    "\n",
    "ax.set_xlim(-74.05, -73.85)\n",
    "ax.set_ylim(40.68, 40.82)\n",
    "\n",
    "# nodes = gpd.GeoDataFrame(geometry=gpd.points_from_xy(lons, lats))\n",
    "# nodes.plot(color='green')\n",
    "\n",
    "fig = plt.figure()\n",
    "\n",
    "# One Taxi's Journey\n",
    "taxi_num = n + 1\n",
    "node = arcs[1][np.where(arcs[0] == taxi_num)] # First node (rider) for given taxi\n",
    "while True:\n",
    "    where = np.array(np.where(loc_origin == node))\n",
    "    if (where.size == 0): break\n",
    "    i = where[0][0]\n",
    "    dx = lon_destin[i] - lon_origin[i]\n",
    "    dy = lat_destin[i] - lat_origin[i]\n",
    "    ax.arrow(lon_origin[i], lat_origin[i], dx, dy, color = 'pink', width=.0004)\n",
    "    node = loc_destin[i]\n",
    "\n",
    "plt.show()"
   ]
  }
 ],
 "metadata": {
  "kernelspec": {
   "display_name": "Python 3",
   "language": "python",
   "name": "python3"
  },
  "language_info": {
   "codemirror_mode": {
    "name": "ipython",
    "version": 3
   },
   "file_extension": ".py",
   "mimetype": "text/x-python",
   "name": "python",
   "nbconvert_exporter": "python",
   "pygments_lexer": "ipython3",
   "version": "3.8.5"
  }
 },
 "nbformat": 4,
 "nbformat_minor": 4
}
